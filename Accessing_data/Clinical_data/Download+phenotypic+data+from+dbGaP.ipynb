{
 "cells": [
  {
   "cell_type": "markdown",
   "metadata": {},
   "source": [
		"# Downloading phenotypic data from dbGaP\n",
    "#### 1. Go to https://www.ncbi.nlm.nih.gov/gap and click on \"controlled access data\"\n",
    "![test](Screen1.png)\n",
    "#### 2. Click on Log in to dbGaP\n",
    "![test](Screen2.png)\n",
    "#### 3. Identify yourself with your era common ID and password\n",
    "![test](Screen3.png)\n",
    "#### 4. Click on \"file selector\"\n",
    "This gives you access to the dbGaP file selector where you can find all the files available for the selected project.\n",
    "![test](Screen41.png)\n",
    "#### 5. Filter by study accession\n",
    "Here, we want to get the phenotypic data for the study \"Early onset COPD\", so after checking `Study accession`, we select \"phs000946\".\n",
    "![test](Screen51.png)\n",
    "#### 6. Filter again\n",
    "Since we are only interested in getting the phenotypic data, let's filter by `Content type` and select `phenotype individual-auxiliary` and `phenotype individual-traits`\n",
    "![test](Screen61.png)\n",
    "#### 7. Select the files\n",
    "Click on \"+\" to select all the files\n",
    "![test](Screen72.png)\n",
    "#### 8. Click on \"Cart file\"\n",
    "This will downlaod a .krt file in your download folder\n",
    "![test](Screen81.png)\n",
    "#### 9. Get a PI dbGaP repository key\n",
    "In order to download the files and to decrypt them, you will need a decryption key. This key can be found on a PI dbGaP account, under `Get no password dbGaP repository key`\n",
    "![test](Screen91.png)\n",
    "#### 10. Download and decrypt the files with an R command\n",
    "\n",
    "Using the function `dbgap.download` from the package `sandboxR`, you can directly download the requested files, decrypt them and put them on a \"dbGaP_files\" folder in your working directory."
   ]
  },
  {
   "cell_type": "code",
   "execution_count": 1,
   "metadata": {
    "collapsed": false
   },
   "outputs": [
    {
     "name": "stderr",
     "output_type": "stream",
     "text": [
			 "trying URL 'http://cran.r-project.org/bin/macosx/el-capitan/contrib/3.4/devtools_1.13.6.tgz'\n",
			 "Content type 'application/x-gzip' length 438761 bytes (428 KB)\n",
			 "==================================================\n",
			 "downloaded 428 KB\n",
			 "\n",
			 "\n",
			 "The downloaded binary packages are in\n",
			 "/var/folders/fz/w73ngndx61ggqbj57nk73fw80000gp/T//RtmpCifsUA/downloaded_packages\n",
			 "\n",
			 "Downloading GitHub repo hms-dbmi/sandboxR@master\n",
			 "from URL https://api.github.com/repos/hms-dbmi/sandboxR/zipball/master\n",
			 "Installing sandboxR\n",
			 "'/Library/Frameworks/R.framework/Resources/bin/R' --no-site-file --no-environ --no-save --no-restore --quiet CMD INSTALL  \n",
			 "'/private/var/folders/fz/w73ngndx61ggqbj57nk73fw80000gp/T/RtmpCifsUA/devtools138ab320e13e8/hms-dbmi-sandboxR-b64f5ce'  \n",
			 "  --library='/Library/Frameworks/R.framework/Versions/3.4/Resources/library' --install-tests\n",
			 "\n",
			 "* installing *source* package ‘sandboxR’ ...\n",
			 "** R\n",
			 "** preparing package for lazy loading\n",
			 "** help\n",
			 "*** installing help indices\n",
			 "** building package indices\n",
			 "** testing if installed package can be loaded\n",
			 "* DONE (sandboxR)\n",
			 "\n",
			 "\n",
			 "trying URL 'http://ftp-trace.ncbi.nlm.nih.gov/sra/sdk/2.9.1-1/sratoolkit.2.9.1-1-mac64.tar.gz'\n",
			 "Content type 'application/x-gzip' length 71609409 bytes (68.3 MB)\n",
			 "==================================================\n",
			 "downloaded 68.3 MB\n"
     ]
    },
    {
     "ename": "ERROR",
     "output_type": "error",
     "traceback": [
			 "/Users/bidou/Documents/DBMI/prj_17011.ngc was imported.\n",
			 "Repository directory is: '/Users/bidou/ncbi/dbGaP-17011'.\n",
			 "Downloading kart file '/Users/bidou/Documents/DBMI/dbgap_pheno_access/cart_prj17011_201807030429.krt'\n",
			 "Checking sizes of kart files...\n",
			 "\n",
			 "\n",
			 "Downloading the files...\n",
			 "\n",
			 "2018-07-20T15:47:13 prefetch.2.9.1: 4) Downloading 'Subject ID, subject age, gender, race, height, weight, BMI, age at sample collection, pregnancy, num'...\n",
			 "2018-07-20T15:47:13 prefetch.2.9.1:  Downloading via fasp...\n",
			 "2018-07-20T15:47:15 prefetch.2.9.1:  fasp download succeed\n",
			 "2018-07-20T15:47:15 prefetch.2.9.1: 4) 'Subject ID, subject age, gender, race, height, weight, BMI, age at sample collection, pregnancy, num' was downloaded successfully\n",
			 "2018-07-20T15:47:15 prefetch.2.9.1: 3) Downloading 'Sample ID, analyte type, body site where sample was obtained, funding source, tumor status of sample'...\n",
			 "2018-07-20T15:47:15 prefetch.2.9.1:  Downloading via fasp...\n",
			 "2018-07-20T15:47:17 prefetch.2.9.1:  fasp download succeed\n",
			 "2018-07-20T15:47:17 prefetch.2.9.1: 3) 'Sample ID, analyte type, body site where sample was obtained, funding source, tumor status of sample' was downloaded successfully\n",
			 "2018-07-20T15:47:17 prefetch.2.9.1: 2) Downloading 'Subject ID, sample ID, and sample use variable of participants with or without chronic obstructive p'...\n",
			 "2018-07-20T15:47:17 prefetch.2.9.1:  Downloading via fasp...\n",
			 "2018-07-20T15:47:19 prefetch.2.9.1:  fasp download succeed\n",
			 "2018-07-20T15:47:19 prefetch.2.9.1: 2) 'Subject ID, sample ID, and sample use variable of participants with or without chronic obstructive p' was downloaded successfully\n",
			 "2018-07-20T15:47:19 prefetch.2.9.1: 1) Downloading 'Subject ID, consent group, and affection status of participants with or without chronic obstructive '...\n",
			 "2018-07-20T15:47:19 prefetch.2.9.1:  Downloading via fasp...\n",
			 "2018-07-20T15:47:21 prefetch.2.9.1:  fasp download succeed\n",
			 "2018-07-20T15:47:21 prefetch.2.9.1: 1) 'Subject ID, consent group, and affection status of participants with or without chronic obstructive ' was downloaded successfully\n",
			 "2018-07-20T15:47:21 vdb-decrypt.2.9.1: Decrypting file files/phs000946.v3.pht004972.v2.p1.TOPMed_WGS_Boston_EO_COPD_Subject.MULTI.txt.gz.ncbi_enc to ../../Desktop/dbGaP_files/phs000946.v3.pht004972.v2.p1.TOPMed_WGS_Boston_EO_COPD_Subject.MULTI.txt.gz\n",
			 "2018-07-20T15:47:21 vdb-decrypt.2.9.1: exiting: success\n",
			 "2018-07-20T15:47:21 vdb-decrypt.2.9.1: Decrypting file files/phs000946.v3.pht004974.v2.p1.c1.TOPMed_WGS_Boston_EO_COPD_Sample_Attributes.DS-CS-RD.txt.gz.ncbi_enc to ../../Desktop/dbGaP_files/phs000946.v3.pht004974.v2.p1.c1.TOPMed_WGS_Boston_EO_COPD_Sample_Attributes.DS-CS-RD.txt.gz\n",
			 "2018-07-20T15:47:21 vdb-decrypt.2.9.1: Decrypting file files/phs000946.v3.pht005719.v1.p1.c1.TOPMed_WGS_Boston_EO_COPD_Subject_Phenotypes.DS-CS-RD.txt.gz.ncbi_enc to ../../Desktop/dbGaP_files/phs000946.v3.pht005719.v1.p1.c1.TOPMed_WGS_Boston_EO_COPD_Subject_Phenotypes.DS-CS-RD.txt.gz\n",
			 "2018-07-20T15:47:21 vdb-decrypt.2.9.1: Decrypting file files/phs000946.v3.pht004973.v2.p1.TOPMed_WGS_Boston_EO_COPD_Sample.MULTI.txt.gz.ncbi_enc to ../../Desktop/dbGaP_files/phs000946.v3.pht004973.v2.p1.TOPMed_WGS_Boston_EO_COPD_Sample.MULTI.txt.gz\n",
			 "2018-07-20T15:47:21 vdb-decrypt.2.9.1: exiting: success",
			 "2018-07-20T15:47:21 vdb-decrypt.2.9.1: exiting: success",
			 "2018-07-20T15:47:21 vdb-decrypt.2.9.1: exiting: success",
			 "[1] TRUE\n"
     ]
    }
   ],
   "source": [
    "install.packages(\"devtools\", repos = \"http://cran.r-project.org\")\n",
    "devtools::install_github(\"hms-dbmi/sandboxR\")\n",
    "library(sandboxR)\n",
    "\n",
    "dbgap.download(\"path/to/your/cartfile.krt\", \"path/to/your/key.ngc\")"
   ]
  },
  {
   "cell_type": "code",
   "execution_count": null,
   "metadata": {
    "collapsed": true
   },
   "outputs": [],
   "source": []
  }
 ],
 "metadata": {
  "kernelspec": {
   "display_name": "R",
   "language": "R",
   "name": "ir"
  },
  "language_info": {
   "codemirror_mode": "r",
   "file_extension": ".r",
   "mimetype": "text/x-r-source",
   "name": "R",
   "pygments_lexer": "r",
   "version": "3.3.1"
  }
 },
 "nbformat": 4,
 "nbformat_minor": 1
}
