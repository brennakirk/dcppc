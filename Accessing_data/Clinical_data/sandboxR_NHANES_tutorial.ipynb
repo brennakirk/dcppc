{
 "cells": [
  {
   "cell_type": "markdown",
   "metadata": {},
   "source": [
    "# Using sandboxR, R package to streamline and sort clinical data"
   ]
  },
  {
   "cell_type": "markdown",
   "metadata": {},
   "source": [
    "## Introduction\n",
    "### Load the package"
   ]
  },
  {
   "cell_type": "code",
   "execution_count": null,
   "metadata": {
    "collapsed": true
   },
   "outputs": [],
   "source": [
    "install.packages(\"devtools\", repos = \"https://cran.rstudio.com/\")\n",
    "devtools::install_github(\"hms-dbmi/sandboxR\", force = TRUE)\n",
    "assignInNamespace(\"cedta.override\", c(data.table:::cedta.override,\"sandboxR\"), \"data.table\")\n",
    "library(sandboxR)"
   ]
  },
  {
   "cell_type": "markdown",
   "metadata": {},
   "source": [
    "### Download the latest NHANES dataset\n",
    "For the purpose of this tutorial, we are using NHANES, a dataset publicly available (https://www.cdc.gov/nchs/nhanes/index.htm). The first function we created dowloads the various nhanes tables, and join the questionnaires across different years. By default, it will place the csv files in a directory called \"NHANES_tables_per_questionnaire\" folder on your working directory. You can add a \"destination\" argument if you want to change the destination of this folder"
   ]
  },
  {
   "cell_type": "code",
   "execution_count": null,
   "metadata": {
    "collapsed": true
   },
   "outputs": [],
   "source": [
    "dl.nhanes()"
   ]
  },
  {
   "cell_type": "markdown",
   "metadata": {},
   "source": [
    "Now, let's use sandboxR in order to clean our variables, and to gather them into a tree that will be easier to use for researchers.\n",
    "\n",
    "## 1. Extract and Build your sandboxR tree\n",
    "The goal of the following function is to create a folder with a \"0_map.csv\" file who will map all your variables, and a subfolder \"study_tree\" containing one .csv file per variable in your study, gathered by datatables."
   ]
  },
  {
   "cell_type": "code",
   "execution_count": null,
   "metadata": {
    "collapsed": true
   },
   "outputs": [],
   "source": [
    "study_name <- \"NHANES\"\n",
    "files <- \"NHANES_tables_per_questionnaire\"\n",
    "destination <- \"path/were/your/tree/will/be/located\"\n",
    "table.expand(\"nhanes\", \"/Users/bidou/Desktop/NHANES_tables_per_questionnaire\")"
   ]
  },
  {
   "cell_type": "markdown",
   "metadata": {},
   "source": [
    "## 2. Transform your tree and build your sandboxes\n",
    "### 2.1 Modify your tree\n",
    "Once your first tree has been created,  you can easily modify the arrangement of your variables by creating new subdirectories, and by dragging and dropping your variable files. You can also change the name of your directories and variables. Be careful not to delete a variable file in this process.\n",
    "\n",
    "Then, use the function TreeToMap() in order to reflect your modifications in your \"0_map.csv\" file"
   ]
  },
  {
   "cell_type": "code",
   "execution_count": null,
   "metadata": {
    "collapsed": true
   },
   "outputs": [],
   "source": [
    "path <- \"Pathway/to/the/folder/where/the/map/and/the/tree/are/located\"\n",
    "TreeToMap(path)"
   ]
  },
  {
   "cell_type": "markdown",
   "metadata": {},
   "source": [
    "### 2.2 Modify your map\n",
    "Similarly, you can modify the name of your files directly in the \"0_map.csv\" files. Modify the 5th column \"data_label\" to change the name of your variables. Use then the MapToTree() function in order to reflect your modifications in your tree."
   ]
  },
  {
   "cell_type": "code",
   "execution_count": null,
   "metadata": {
    "collapsed": true
   },
   "outputs": [],
   "source": [
    "MapToTree(path)"
   ]
  },
  {
   "cell_type": "markdown",
   "metadata": {},
   "source": [
    "##### Be careful to apply your changes with MapToTree or TreeToMap BEFORE switching from 4.1 to 4.2 and from 4.2 to 4.1\n",
    "## 3. Fixing and repairing issues\n",
    "Each time you will use TreeToMap(), the old map will be saved with a time stamp in a hidden folder called \".oldmaps\". Use the function list.oldmaps() in order to list your previous maps. Use look.oldmaps() in order to view one of these maps as a data.frame. Use recover.map() to change your tree and your \"0_map.csv\" according to one of your previous maps."
   ]
  },
  {
   "cell_type": "code",
   "execution_count": null,
   "metadata": {
    "collapsed": true
   },
   "outputs": [],
   "source": [
    "list.oldmaps(path)\n",
    "look.oldmap(path, \"olmap YYYY-MM-DD HHMM10 AM\")\n",
    "recover.map(path, \"olmap YYYY-MM-DD HHMM AM\")"
   ]
  }
 ],
 "metadata": {
  "kernelspec": {
   "display_name": "R",
   "language": "R",
   "name": "ir"
  },
  "language_info": {
   "codemirror_mode": "r",
   "file_extension": ".r",
   "mimetype": "text/x-r-source",
   "name": "R",
   "pygments_lexer": "r",
   "version": "3.3.1"
  }
 },
 "nbformat": 4,
 "nbformat_minor": 1
}
