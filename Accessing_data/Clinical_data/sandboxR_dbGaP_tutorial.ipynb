{
 "cells": [
  {
   "cell_type": "markdown",
   "metadata": {},
   "source": [
    "# Using dbGaPexplore, R package to explore and sort phenotypics data from dbGap"
   ]
  },
  {
   "cell_type": "markdown",
   "metadata": {},
   "source": [
    "## Introduction\n",
    "### Load the package"
   ]
  },
  {
   "cell_type": "code",
   "execution_count": 1,
   "metadata": {
    "collapsed": false
   },
   "outputs": [
    {
     "name": "stderr",
     "output_type": "stream",
     "text": [
      "Downloading GitHub repo hms-dbmi/sandboxR@master\n",
      "from URL https://api.github.com/repos/hms-dbmi/sandboxR/zipball/master\n",
      "Installing sandboxR\n",
      "'/opt/conda/lib/R/bin/R' --no-site-file --no-environ --no-save --no-restore  \\\n",
      "  --quiet CMD INSTALL  \\\n",
      "  '/tmp/RtmpHkJ1SU/devtools2cf2c94d3/hms-dbmi-sandboxR-710c0a6'  \\\n",
      "  --library='/opt/conda/lib/R/library' --install-tests \n",
      "\n"
     ]
    }
   ],
   "source": [
    "#install.packages(\"devtools\", repos = \"https://cran.rstudio.com/\")\n",
    "devtools::install_github(\"hms-dbmi/sandboxR\", force = TRUE)\n",
    "library(sandboxR)"
   ]
  },
  {
   "cell_type": "markdown",
   "metadata": {},
   "source": [
    "### Get the list of the function for this new package"
   ]
  },
  {
   "cell_type": "code",
   "execution_count": 2,
   "metadata": {
    "collapsed": false
   },
   "outputs": [
    {
     "data": {
      "text/plain": [
       "browse.dbgap : function (phs, jupyter = FALSE)  \n",
       "browse.study : function (phs, jupyter = FALSE)  \n",
       "consent.groups : function (phs)  \n",
       "datatables.dict : function (phs)  \n",
       "dbgap.data_dict : function (xml, dest)  \n",
       "dbgap.decrypt : function (file)  \n",
       "is.parent : function (phs)  \n",
       "list.oldmaps : function (mappath)  \n",
       "look.oldmap : function (mappath, old)  \n",
       "MapToTree : function (mappath)  \n",
       "n.pop : function (phs, consentgroups = TRUE, gender = FALSE)  \n",
       "n.tables : function (phs)  \n",
       "n.variables : function (phs)  \n",
       "parent.study : function (phs)  \n",
       "phs.version : function (phs)  \n",
       "recover.map : function (oldcsv, mappath)  \n",
       "sandbox : function (phs, consent_groups, tree_dest = consent_groups[1], study_name = phs)  \n",
       "search.dbgap : function (term, jupyter = FALSE)  \n",
       "study.name : function (phs)  \n",
       "sub.study : function (phs)  \n",
       "TreeToMap : function (mappath)  \n",
       "variables.dict : function (phs)  "
      ]
     },
     "metadata": {},
     "output_type": "display_data"
    }
   ],
   "source": [
    "lsf.str(\"package:sandboxR\")"
   ]
  },
  {
   "cell_type": "markdown",
   "metadata": {},
   "source": [
    "## 1. Search for dbGap studies\n",
    "### Let's try to explore the \"Jackson Heart Study\" cohort that exists on dbGap.\n",
    "###### The dbGap search engine can be tricky, that's why we created the function \"browse.dbgap\", who helps you find the studies related to the term that you search on your web browser.\n",
    "Note that if you run this function in a jupyterhub environment, it will return a url since jupyterhub doesn't have access to your local browser."
   ]
  },
  {
   "cell_type": "code",
   "execution_count": 3,
   "metadata": {
    "collapsed": false
   },
   "outputs": [
    {
     "data": {
      "text/html": [
       "'https://www.ncbi.nlm.nih.gov/gap/?term=Jackson%5BStudy+Name%5D'"
      ],
      "text/latex": [
       "'https://www.ncbi.nlm.nih.gov/gap/?term=Jackson\\%5BStudy+Name\\%5D'"
      ],
      "text/markdown": [
       "'https://www.ncbi.nlm.nih.gov/gap/?term=Jackson%5BStudy+Name%5D'"
      ],
      "text/plain": [
       "[1] \"https://www.ncbi.nlm.nih.gov/gap/?term=Jackson%5BStudy+Name%5D\""
      ]
     },
     "metadata": {},
     "output_type": "display_data"
    }
   ],
   "source": [
    "search.dbgap(\"Jackson\", jupyter = TRUE)"
   ]
  },
  {
   "cell_type": "markdown",
   "metadata": {},
   "source": [
    "#### dbGap returns the list of the studies related to your term. As you see, there are 6 studies associated with the \"Jackson Heart Study\" (JHS). One of these study is the main one aka the \"parent study\", whereas the other ones are substudies. In this case, phs000286.v5.p1 is the parent study. Firslty, we can use the phs.version() function in order to be sure that this is the latest version of the study. We can abbreviate the phs name by giving just the digit, or we can use the full dbGap id."
   ]
  },
  {
   "cell_type": "code",
   "execution_count": 4,
   "metadata": {
    "collapsed": false
   },
   "outputs": [
    {
     "data": {
      "text/html": [
       "'phs000286.v5.p1'"
      ],
      "text/latex": [
       "'phs000286.v5.p1'"
      ],
      "text/markdown": [
       "'phs000286.v5.p1'"
      ],
      "text/plain": [
       "[1] \"phs000286.v5.p1\""
      ]
     },
     "metadata": {},
     "output_type": "display_data"
    }
   ],
   "source": [
    "phs.version(\"286\")"
   ]
  },
  {
   "cell_type": "markdown",
   "metadata": {},
   "source": [
    "##### The is.parent() function is usefull to test if a study is a parent study or a substudy"
   ]
  },
  {
   "cell_type": "code",
   "execution_count": 5,
   "metadata": {
    "collapsed": false
   },
   "outputs": [
    {
     "data": {
      "text/html": [
       "TRUE"
      ],
      "text/latex": [
       "TRUE"
      ],
      "text/markdown": [
       "TRUE"
      ],
      "text/plain": [
       "[1] TRUE"
      ]
     },
     "metadata": {},
     "output_type": "display_data"
    },
    {
     "data": {
      "text/html": [
       "FALSE"
      ],
      "text/latex": [
       "FALSE"
      ],
      "text/markdown": [
       "FALSE"
      ],
      "text/plain": [
       "[1] FALSE"
      ]
     },
     "metadata": {},
     "output_type": "display_data"
    }
   ],
   "source": [
    "is.parent(\"000286\") # JHS main cohort\n",
    "is.parent(\"phs499\") # substudy \"CARe\" for JHS"
   ]
  },
  {
   "cell_type": "markdown",
   "metadata": {
    "collapsed": true
   },
   "source": [
    "#### If you don't know the parent study of a substudy, try parent.study()"
   ]
  },
  {
   "cell_type": "code",
   "execution_count": 6,
   "metadata": {
    "collapsed": false
   },
   "outputs": [
    {
     "data": {
      "text/html": [
       "<ol class=list-inline>\n",
       "\t<li>'phs000286.v5.p1'</li>\n",
       "\t<li>'Jackson Heart Study (JHS) Cohort'</li>\n",
       "</ol>\n"
      ],
      "text/latex": [
       "\\begin{enumerate*}\n",
       "\\item 'phs000286.v5.p1'\n",
       "\\item 'Jackson Heart Study (JHS) Cohort'\n",
       "\\end{enumerate*}\n"
      ],
      "text/markdown": [
       "1. 'phs000286.v5.p1'\n",
       "2. 'Jackson Heart Study (JHS) Cohort'\n",
       "\n",
       "\n"
      ],
      "text/plain": [
       "[1] \"phs000286.v5.p1\"                  \"Jackson Heart Study (JHS) Cohort\""
      ]
     },
     "metadata": {},
     "output_type": "display_data"
    }
   ],
   "source": [
    "parent.study(\"phs000499\")"
   ]
  },
  {
   "cell_type": "markdown",
   "metadata": {},
   "source": [
    "##### On the other side, use sub.study() to get the name and IDs of the substudies from a parent one"
   ]
  },
  {
   "cell_type": "code",
   "execution_count": 7,
   "metadata": {
    "collapsed": false
   },
   "outputs": [
    {
     "data": {
      "text/html": [
       "<table>\n",
       "<thead><tr><th></th><th scope=col>phs</th><th scope=col>name</th></tr></thead>\n",
       "<tbody>\n",
       "\t<tr><th scope=row>1</th><td>phs000499.v3.p1                                                     </td><td>NHLBI Jackson Heart Study Candidate Gene Association Resource (CARe)</td></tr>\n",
       "\t<tr><th scope=row>2</th><td>phs000498.v3.p1                             </td><td>Jackson Heart Study Allelic Spectrum Project</td></tr>\n",
       "\t<tr><th scope=row>3</th><td>phs000402.v3.p1                                           </td><td>NHLBI GO-ESP: Heart Cohorts Exome Sequencing Project (JHS)</td></tr>\n",
       "\t<tr><th scope=row>4</th><td>phs001098.v1.p1                                                   </td><td>T2D-GENES Multi-Ethnic Exome Sequencing Study: Jackson Heart Study</td></tr>\n",
       "</tbody>\n",
       "</table>\n"
      ],
      "text/latex": [
       "\\begin{tabular}{r|ll}\n",
       "  & phs & name\\\\\n",
       "\\hline\n",
       "\t1 & phs000499.v3.p1                                                      & NHLBI Jackson Heart Study Candidate Gene Association Resource (CARe)\\\\\n",
       "\t2 & phs000498.v3.p1                              & Jackson Heart Study Allelic Spectrum Project\\\\\n",
       "\t3 & phs000402.v3.p1                                            & NHLBI GO-ESP: Heart Cohorts Exome Sequencing Project (JHS)\\\\\n",
       "\t4 & phs001098.v1.p1                                                    & T2D-GENES Multi-Ethnic Exome Sequencing Study: Jackson Heart Study\\\\\n",
       "\\end{tabular}\n"
      ],
      "text/plain": [
       "              phs\n",
       "1 phs000499.v3.p1\n",
       "2 phs000498.v3.p1\n",
       "3 phs000402.v3.p1\n",
       "4 phs001098.v1.p1\n",
       "                                                                  name\n",
       "1 NHLBI Jackson Heart Study Candidate Gene Association Resource (CARe)\n",
       "2                         Jackson Heart Study Allelic Spectrum Project\n",
       "3           NHLBI GO-ESP: Heart Cohorts Exome Sequencing Project (JHS)\n",
       "4   T2D-GENES Multi-Ethnic Exome Sequencing Study: Jackson Heart Study"
      ]
     },
     "metadata": {},
     "output_type": "display_data"
    }
   ],
   "source": [
    "sub.study(\"286\") # note here that the substudy \"TOPMed\" is missing because it has not been fully integrated yet"
   ]
  },
  {
   "cell_type": "markdown",
   "metadata": {},
   "source": [
    "##### If you want to get the name of a study from its dbGap id, use study.name()"
   ]
  },
  {
   "cell_type": "code",
   "execution_count": 8,
   "metadata": {
    "collapsed": false
   },
   "outputs": [
    {
     "data": {
      "text/html": [
       "'Jackson Heart Study (JHS) Cohort'"
      ],
      "text/latex": [
       "'Jackson Heart Study (JHS) Cohort'"
      ],
      "text/markdown": [
       "'Jackson Heart Study (JHS) Cohort'"
      ],
      "text/plain": [
       "[1] \"Jackson Heart Study (JHS) Cohort\""
      ]
     },
     "metadata": {},
     "output_type": "display_data"
    }
   ],
   "source": [
    "study.name(\"286\")"
   ]
  },
  {
   "cell_type": "markdown",
   "metadata": {},
   "source": [
    "##### Finally, you can watch your study on dbGap with browse.dbgap().\n",
    "##### If a website exists for this study, you can browse it using browse.study()"
   ]
  },
  {
   "cell_type": "code",
   "execution_count": 9,
   "metadata": {
    "collapsed": false
   },
   "outputs": [
    {
     "data": {
      "text/html": [
       "'https://www.ncbi.nlm.nih.gov/projects/gap/cgi-bin/study.cgi?study_id=phs000286.v5.p1'"
      ],
      "text/latex": [
       "'https://www.ncbi.nlm.nih.gov/projects/gap/cgi-bin/study.cgi?study\\_id=phs000286.v5.p1'"
      ],
      "text/markdown": [
       "'https://www.ncbi.nlm.nih.gov/projects/gap/cgi-bin/study.cgi?study_id=phs000286.v5.p1'"
      ],
      "text/plain": [
       "[1] \"https://www.ncbi.nlm.nih.gov/projects/gap/cgi-bin/study.cgi?study_id=phs000286.v5.p1\""
      ]
     },
     "metadata": {},
     "output_type": "display_data"
    },
    {
     "data": {
      "text/html": [
       "'https://www.jacksonheartstudy.org'"
      ],
      "text/latex": [
       "'https://www.jacksonheartstudy.org'"
      ],
      "text/markdown": [
       "'https://www.jacksonheartstudy.org'"
      ],
      "text/plain": [
       "[1] \"https://www.jacksonheartstudy.org\""
      ]
     },
     "metadata": {},
     "output_type": "display_data"
    }
   ],
   "source": [
    "browse.dbgap(\"286\", jupyter = TRUE)\n",
    "browse.study(\"286\", jupyter = TRUE)"
   ]
  },
  {
   "cell_type": "markdown",
   "metadata": {},
   "source": [
    "## 2. Explore the characteristics of your study\n",
    "##### For each dbGap study, there can be multiple consent groups that will have there specificities. Use consent.groups to know the number and the name of the consent groups in the study that you are exploring. Let's keep focusing on JHS."
   ]
  },
  {
   "cell_type": "code",
   "execution_count": 10,
   "metadata": {
    "collapsed": false
   },
   "outputs": [
    {
     "data": {
      "text/html": [
       "<table>\n",
       "<thead><tr><th></th><th scope=col>shortName</th><th scope=col>longName</th></tr></thead>\n",
       "<tbody>\n",
       "\t<tr><th scope=row>0</th><td>NRUP                                                                                                                                                                             </td><td>Subjects did not participate in the study, did not complete a consent document and are included only for the pedigree structure and/or genotype controls, such as HapMap subjects</td></tr>\n",
       "\t<tr><th scope=row>1</th><td>HMB-IRB-NPU                         </td><td>Health/Medical/Biomedical (IRB, NPU)</td></tr>\n",
       "\t<tr><th scope=row>2</th><td>DS-FDO-IRB-NPU                                   </td><td>Disease-Specific (Focused Disease Only, IRB, NPU)</td></tr>\n",
       "\t<tr><th scope=row>3</th><td>HMB-IRB                        </td><td>Health/Medical/Biomedical (IRB)</td></tr>\n",
       "\t<tr><th scope=row>4</th><td>DS-FDO-IRB                                  </td><td>Disease-Specific (Focused Disease Only, IRB)</td></tr>\n",
       "</tbody>\n",
       "</table>\n"
      ],
      "text/latex": [
       "\\begin{tabular}{r|ll}\n",
       "  & shortName & longName\\\\\n",
       "\\hline\n",
       "\t0 & NRUP                                                                                                                                                                              & Subjects did not participate in the study, did not complete a consent document and are included only for the pedigree structure and/or genotype controls, such as HapMap subjects\\\\\n",
       "\t1 & HMB-IRB-NPU                          & Health/Medical/Biomedical (IRB, NPU)\\\\\n",
       "\t2 & DS-FDO-IRB-NPU                                    & Disease-Specific (Focused Disease Only, IRB, NPU)\\\\\n",
       "\t3 & HMB-IRB                         & Health/Medical/Biomedical (IRB)\\\\\n",
       "\t4 & DS-FDO-IRB                                   & Disease-Specific (Focused Disease Only, IRB)\\\\\n",
       "\\end{tabular}\n"
      ],
      "text/plain": [
       "       shortName\n",
       "0           NRUP\n",
       "1    HMB-IRB-NPU\n",
       "2 DS-FDO-IRB-NPU\n",
       "3        HMB-IRB\n",
       "4     DS-FDO-IRB\n",
       "                                                                                                                                                                           longName\n",
       "0 Subjects did not participate in the study, did not complete a consent document and are included only for the pedigree structure and/or genotype controls, such as HapMap subjects\n",
       "1                                                                                                                                              Health/Medical/Biomedical (IRB, NPU)\n",
       "2                                                                                                                                 Disease-Specific (Focused Disease Only, IRB, NPU)\n",
       "3                                                                                                                                                   Health/Medical/Biomedical (IRB)\n",
       "4                                                                                                                                      Disease-Specific (Focused Disease Only, IRB)"
      ]
     },
     "metadata": {},
     "output_type": "display_data"
    }
   ],
   "source": [
    "JHS <- \"phs000286\"\n",
    "consent.groups(JHS)"
   ]
  },
  {
   "cell_type": "markdown",
   "metadata": {},
   "source": [
    "##### Use n.pop() to know the number of patient included in each groups"
   ]
  },
  {
   "cell_type": "code",
   "execution_count": 11,
   "metadata": {
    "collapsed": false
   },
   "outputs": [
    {
     "data": {
      "text/html": [
       "<table>\n",
       "<thead><tr><th></th><th scope=col>consent_group</th><th scope=col>total</th></tr></thead>\n",
       "<tbody>\n",
       "\t<tr><th scope=row>1</th><td>HMB-IRB-NPU</td><td>802        </td></tr>\n",
       "\t<tr><th scope=row>2</th><td>DS-FDO-IRB-NPU</td><td>180           </td></tr>\n",
       "\t<tr><th scope=row>3</th><td>HMB-IRB</td><td>2131   </td></tr>\n",
       "\t<tr><th scope=row>4</th><td>DS-FDO-IRB</td><td>489       </td></tr>\n",
       "\t<tr><th scope=row>5</th><td>TOTAL</td><td>3602 </td></tr>\n",
       "</tbody>\n",
       "</table>\n"
      ],
      "text/latex": [
       "\\begin{tabular}{r|ll}\n",
       "  & consent\\_group & total\\\\\n",
       "\\hline\n",
       "\t1 & HMB-IRB-NPU & 802        \\\\\n",
       "\t2 & DS-FDO-IRB-NPU & 180           \\\\\n",
       "\t3 & HMB-IRB & 2131   \\\\\n",
       "\t4 & DS-FDO-IRB & 489       \\\\\n",
       "\t5 & TOTAL & 3602 \\\\\n",
       "\\end{tabular}\n"
      ],
      "text/plain": [
       "   consent_group total\n",
       "1    HMB-IRB-NPU   802\n",
       "2 DS-FDO-IRB-NPU   180\n",
       "3        HMB-IRB  2131\n",
       "4     DS-FDO-IRB   489\n",
       "5          TOTAL  3602"
      ]
     },
     "metadata": {},
     "output_type": "display_data"
    },
    {
     "data": {
      "text/html": [
       "3602"
      ],
      "text/latex": [
       "3602"
      ],
      "text/markdown": [
       "3602"
      ],
      "text/plain": [
       "[1] 3602"
      ]
     },
     "metadata": {},
     "output_type": "display_data"
    }
   ],
   "source": [
    "n.pop(JHS)\n",
    "n.pop(JHS, consentgroups = FALSE)"
   ]
  },
  {
   "cell_type": "markdown",
   "metadata": {},
   "source": [
    "##### Use n.tables() and n.variables() to get the number of datatables in your study and the total number of variables\n",
    "(n.variables may takes a while as it goes into the study files to count the actual number of variables)"
   ]
  },
  {
   "cell_type": "code",
   "execution_count": 12,
   "metadata": {
    "collapsed": false
   },
   "outputs": [
    {
     "data": {
      "text/html": [
       "62"
      ],
      "text/latex": [
       "62"
      ],
      "text/markdown": [
       "62"
      ],
      "text/plain": [
       "[1] 62"
      ]
     },
     "metadata": {},
     "output_type": "display_data"
    },
    {
     "data": {
      "text/html": [
       "4147"
      ],
      "text/latex": [
       "4147"
      ],
      "text/markdown": [
       "4147"
      ],
      "text/plain": [
       "[1] 4147"
      ]
     },
     "metadata": {},
     "output_type": "display_data"
    }
   ],
   "source": [
    "n.tables(JHS)\n",
    "n.variables(JHS)"
   ]
  },
  {
   "cell_type": "markdown",
   "metadata": {},
   "source": [
    "#### datatables.dict() will return a data frame with the datatables IDs (phtxxxxxx) and description of your study\n",
    "(may takes a while)"
   ]
  },
  {
   "cell_type": "code",
   "execution_count": 13,
   "metadata": {
    "collapsed": false
   },
   "outputs": [
    {
     "data": {
      "text/html": [
       "<table>\n",
       "<thead><tr><th></th><th scope=col>pht</th><th scope=col>dt_study_name</th><th scope=col>dt_label</th></tr></thead>\n",
       "<tbody>\n",
       "\t<tr><th scope=row>1</th><td>pht002539.v2                                                                                                                                                                                                                                                                                                                                                                                                                                                                                                                                                                                                                                                                                                                                                                                                                                                                                                                                                                                 </td><td>ESP_HeartGO_JHS_Subject_Phenotypes                                                                                                                                                                                                                                                                                                                                                                                                                                                                                                                                                                                                                                                                                                                                                                                                                                                                                                                                                           </td><td>Subject ID, ESP cohort, target capture used in sequencing, sequence center, race, sex, affection status, family medical history of stroke, participant medical history of asthma and COPD, ankle brachial index, artery disease status, atrioventricular block, blood pressure, body weight, height and BMI, coronary artery calcium, EKG, Framingham Risk Score, intimal-medial thickness, laboratory tests including basophils, eosinophils, neutrophils, lymphocytes, lymphocytes, blood fasting insulin and glucose, level of C-reactive protein, LDL, HDL, triglycerides, uric acid, urinary creatinine, serum creatinine, menopause, MI, FEV1, FVC, stroke status, type 2 diabetes, Wolff-Parkinson-White pattern, hormone replacement therapy, and smoking status of subjects participated in the \"National Heart Lung and Blood Institute (NHLBI) GO-ESP: Heart Cohorts Component of the Exome Sequencing Project (JHS)\" sub study of the \"Jackson Heart Study (JHS) Cohort\" project.</td></tr>\n",
       "\t<tr><th scope=row>2</th><td>pht001948.v1                                                                                                                           </td><td>CSTA                                                                                                                                   </td><td>Agatston score of all coronary section among participants of the Jackson Heart Study including adult 35-84 years old African Americans.</td></tr>\n",
       "\t<tr><th scope=row>3</th><td>pht001947.v1                                                                                                                   </td><td>CSIA                                                                                                                           </td><td>Approach to life B. Life style among participants of the Jackson Heart Study including adult 35-84 years old African Americans.</td></tr>\n",
       "\t<tr><th scope=row>4</th><td>pht001968.v1                                                                                                                      </td><td>PPAA                                                                                                                              </td><td>Post physical activity monitoring among participants of the Jackson Heart Study including adult 35-84 years old African Americans.</td></tr>\n",
       "\t<tr><th scope=row>5</th><td>pht001955.v1                                                                                                                    </td><td>ECHA                                                                                                                            </td><td>Echocardiographic abnormalities among participants of the Jackson Heart Study including adult 35-84 years old African Americans.</td></tr>\n",
       "\t<tr><th scope=row>6</th><td>pht001952.v1                                                                                                         </td><td>DPASS_DIET1                                                                                                          </td><td>Dietary data (DPASS) among participants of the Jackson Heart Study including adult 35-84 years old African Americans.</td></tr>\n",
       "</tbody>\n",
       "</table>\n"
      ],
      "text/latex": [
       "\\begin{tabular}{r|lll}\n",
       "  & pht & dt\\_study\\_name & dt\\_label\\\\\n",
       "\\hline\n",
       "\t1 & pht002539.v2                                                                                                                                                                                                                                                                                                                                                                                                                                                                                                                                                                                                                                                                                                                                                                                                                                                                                                                                                                                  & ESP\\_HeartGO\\_JHS\\_Subject\\_Phenotypes                                                                                                                                                                                                                                                                                                                                                                                                                                                                                                                                                                                                                                                                                                                                                                                                                                                                                                                                                    & Subject ID, ESP cohort, target capture used in sequencing, sequence center, race, sex, affection status, family medical history of stroke, participant medical history of asthma and COPD, ankle brachial index, artery disease status, atrioventricular block, blood pressure, body weight, height and BMI, coronary artery calcium, EKG, Framingham Risk Score, intimal-medial thickness, laboratory tests including basophils, eosinophils, neutrophils, lymphocytes, lymphocytes, blood fasting insulin and glucose, level of C-reactive protein, LDL, HDL, triglycerides, uric acid, urinary creatinine, serum creatinine, menopause, MI, FEV1, FVC, stroke status, type 2 diabetes, Wolff-Parkinson-White pattern, hormone replacement therapy, and smoking status of subjects participated in the \"National Heart Lung and Blood Institute (NHLBI) GO-ESP: Heart Cohorts Component of the Exome Sequencing Project (JHS)\" sub study of the \"Jackson Heart Study (JHS) Cohort\" project.\\\\\n",
       "\t2 & pht001948.v1                                                                                                                            & CSTA                                                                                                                                    & Agatston score of all coronary section among participants of the Jackson Heart Study including adult 35-84 years old African Americans.\\\\\n",
       "\t3 & pht001947.v1                                                                                                                    & CSIA                                                                                                                            & Approach to life B. Life style among participants of the Jackson Heart Study including adult 35-84 years old African Americans.\\\\\n",
       "\t4 & pht001968.v1                                                                                                                       & PPAA                                                                                                                               & Post physical activity monitoring among participants of the Jackson Heart Study including adult 35-84 years old African Americans.\\\\\n",
       "\t5 & pht001955.v1                                                                                                                     & ECHA                                                                                                                             & Echocardiographic abnormalities among participants of the Jackson Heart Study including adult 35-84 years old African Americans.\\\\\n",
       "\t6 & pht001952.v1                                                                                                          & DPASS\\_DIET1                                                                                                         & Dietary data (DPASS) among participants of the Jackson Heart Study including adult 35-84 years old African Americans.\\\\\n",
       "\\end{tabular}\n"
      ],
      "text/plain": [
       "           pht                      dt_study_name\n",
       "1 pht002539.v2 ESP_HeartGO_JHS_Subject_Phenotypes\n",
       "2 pht001948.v1                               CSTA\n",
       "3 pht001947.v1                               CSIA\n",
       "4 pht001968.v1                               PPAA\n",
       "5 pht001955.v1                               ECHA\n",
       "6 pht001952.v1                        DPASS_DIET1\n",
       "                                                                                                                                                                                                                                                                                                                                                                                                                                                                                                                                                                                                                                                                                                                                                                                                                                                                                                                                                                                       dt_label\n",
       "1 Subject ID, ESP cohort, target capture used in sequencing, sequence center, race, sex, affection status, family medical history of stroke, participant medical history of asthma and COPD, ankle brachial index, artery disease status, atrioventricular block, blood pressure, body weight, height and BMI, coronary artery calcium, EKG, Framingham Risk Score, intimal-medial thickness, laboratory tests including basophils, eosinophils, neutrophils, lymphocytes, lymphocytes, blood fasting insulin and glucose, level of C-reactive protein, LDL, HDL, triglycerides, uric acid, urinary creatinine, serum creatinine, menopause, MI, FEV1, FVC, stroke status, type 2 diabetes, Wolff-Parkinson-White pattern, hormone replacement therapy, and smoking status of subjects participated in the \"National Heart Lung and Blood Institute (NHLBI) GO-ESP: Heart Cohorts Component of the Exome Sequencing Project (JHS)\" sub study of the \"Jackson Heart Study (JHS) Cohort\" project.\n",
       "2                                                                                                                                                                                                                                                                                                                                                                                                                                                                                                                                                                                                                                                                                                                                                                                                                                                       Agatston score of all coronary section among participants of the Jackson Heart Study including adult 35-84 years old African Americans.\n",
       "3                                                                                                                                                                                                                                                                                                                                                                                                                                                                                                                                                                                                                                                                                                                                                                                                                                                               Approach to life B. Life style among participants of the Jackson Heart Study including adult 35-84 years old African Americans.\n",
       "4                                                                                                                                                                                                                                                                                                                                                                                                                                                                                                                                                                                                                                                                                                                                                                                                                                                            Post physical activity monitoring among participants of the Jackson Heart Study including adult 35-84 years old African Americans.\n",
       "5                                                                                                                                                                                                                                                                                                                                                                                                                                                                                                                                                                                                                                                                                                                                                                                                                                                              Echocardiographic abnormalities among participants of the Jackson Heart Study including adult 35-84 years old African Americans.\n",
       "6                                                                                                                                                                                                                                                                                                                                                                                                                                                                                                                                                                                                                                                                                                                                                                                                                                                                         Dietary data (DPASS) among participants of the Jackson Heart Study including adult 35-84 years old African Americans."
      ]
     },
     "metadata": {},
     "output_type": "display_data"
    }
   ],
   "source": [
    "tablesdict <- datatables.dict(JHS)\n",
    "head(tablesdict)"
   ]
  },
  {
   "cell_type": "markdown",
   "metadata": {},
   "source": [
    "#### variables.dict() will return a data frame with the variables IDs (phvxxxxxx), their name in the study, the datatable where they come from and their description\n",
    "(may takes even more time)"
   ]
  },
  {
   "cell_type": "code",
   "execution_count": 14,
   "metadata": {
    "collapsed": false
   },
   "outputs": [
    {
     "data": {
      "text/html": [
       "<table>\n",
       "<thead><tr><th></th><th scope=col>dt_study_name</th><th scope=col>phv</th><th scope=col>var_name</th><th scope=col>var_desc</th></tr></thead>\n",
       "<tbody>\n",
       "\t<tr><th scope=row>1</th><td>ESP_HeartGO_JHS_Subject_Phenotypes</td><td>phv00165323.v2                    </td><td>SUBJID                            </td><td>Subject ID                        </td></tr>\n",
       "\t<tr><th scope=row>2</th><td>ESP_HeartGO_JHS_Subject_Phenotypes</td><td>phv00165322.v2                    </td><td>ESP_Cohort                        </td><td>Cohort name [JHS]                 </td></tr>\n",
       "\t<tr><th scope=row>3</th><td>ESP_HeartGO_JHS_Subject_Phenotypes                                                                                                                                                                                                            </td><td>phv00165324.v2                                                                                                                                                                                                                                </td><td>ESP_phenotype                                                                                                                                                                                                                                 </td><td>ESP Phenotype group (phenotype that the sample was selected to be sequenced for) [EOMI_Control (Early MI control), LDL_Low, LDL_High, BP_Low (low blood pressure); BP_High (high blood pressure); DPR (Deeply Phenotyped Reference); BMI_High]</td></tr>\n",
       "\t<tr><th scope=row>4</th><td>ESP_HeartGO_JHS_Subject_Phenotypes                    </td><td>phv00181282.v1                                        </td><td>Sequence_center                                       </td><td>Indicates where the sample was sequence at [Broad, UW]</td></tr>\n",
       "\t<tr><th scope=row>5</th><td>ESP_HeartGO_JHS_Subject_Phenotypes         </td><td>phv00181283.v1                             </td><td>Target                                     </td><td>Indicates target capture used in sequencing</td></tr>\n",
       "\t<tr><th scope=row>6</th><td>ESP_HeartGO_JHS_Subject_Phenotypes </td><td>phv00181284.v1                     </td><td>ESP_race_selfreport                </td><td>Self report race [African American]</td></tr>\n",
       "</tbody>\n",
       "</table>\n"
      ],
      "text/latex": [
       "\\begin{tabular}{r|llll}\n",
       "  & dt\\_study\\_name & phv & var\\_name & var\\_desc\\\\\n",
       "\\hline\n",
       "\t1 & ESP\\_HeartGO\\_JHS\\_Subject\\_Phenotypes & phv00165323.v2                             & SUBJID                                     & Subject ID                                \\\\\n",
       "\t2 & ESP\\_HeartGO\\_JHS\\_Subject\\_Phenotypes & phv00165322.v2                             & ESP\\_Cohort                               & Cohort name {[}JHS{]}                     \\\\\n",
       "\t3 & ESP\\_HeartGO\\_JHS\\_Subject\\_Phenotypes                                                                                                                                                                                                                     & phv00165324.v2                                                                                                                                                                                                                                                 & ESP\\_phenotype                                                                                                                                                                                                                                                & ESP Phenotype group (phenotype that the sample was selected to be sequenced for) {[}EOMI\\_Control (Early MI control), LDL\\_Low, LDL\\_High, BP\\_Low (low blood pressure); BP\\_High (high blood pressure); DPR (Deeply Phenotyped Reference); BMI\\_High{]}\\\\\n",
       "\t4 & ESP\\_HeartGO\\_JHS\\_Subject\\_Phenotypes                 & phv00181282.v1                                             & Sequence\\_center                                          & Indicates where the sample was sequence at {[}Broad, UW{]}\\\\\n",
       "\t5 & ESP\\_HeartGO\\_JHS\\_Subject\\_Phenotypes  & phv00181283.v1                              & Target                                      & Indicates target capture used in sequencing\\\\\n",
       "\t6 & ESP\\_HeartGO\\_JHS\\_Subject\\_Phenotypes & phv00181284.v1                             & ESP\\_race\\_selfreport                    & Self report race {[}African American{]}   \\\\\n",
       "\\end{tabular}\n"
      ],
      "text/plain": [
       "                       dt_study_name            phv            var_name\n",
       "1 ESP_HeartGO_JHS_Subject_Phenotypes phv00165323.v2              SUBJID\n",
       "2 ESP_HeartGO_JHS_Subject_Phenotypes phv00165322.v2          ESP_Cohort\n",
       "3 ESP_HeartGO_JHS_Subject_Phenotypes phv00165324.v2       ESP_phenotype\n",
       "4 ESP_HeartGO_JHS_Subject_Phenotypes phv00181282.v1     Sequence_center\n",
       "5 ESP_HeartGO_JHS_Subject_Phenotypes phv00181283.v1              Target\n",
       "6 ESP_HeartGO_JHS_Subject_Phenotypes phv00181284.v1 ESP_race_selfreport\n",
       "                                                                                                                                                                                                                                        var_desc\n",
       "1                                                                                                                                                                                                                                     Subject ID\n",
       "2                                                                                                                                                                                                                              Cohort name [JHS]\n",
       "3 ESP Phenotype group (phenotype that the sample was selected to be sequenced for) [EOMI_Control (Early MI control), LDL_Low, LDL_High, BP_Low (low blood pressure); BP_High (high blood pressure); DPR (Deeply Phenotyped Reference); BMI_High]\n",
       "4                                                                                                                                                                                         Indicates where the sample was sequence at [Broad, UW]\n",
       "5                                                                                                                                                                                                    Indicates target capture used in sequencing\n",
       "6                                                                                                                                                                                                            Self report race [African American]"
      ]
     },
     "metadata": {},
     "output_type": "display_data"
    }
   ],
   "source": [
    "vardict <- variables.dict(JHS)\n",
    "head(vardict)"
   ]
  },
  {
   "cell_type": "markdown",
   "metadata": {},
   "source": [
    "Now that we have explore our datasets, let's use sandboxR in order to clean our variables, and to gather them into a tree that will be easier to use for researchers. Note that for chapter 3, we will need to move and create a lot of files on your environment. It will be easier to use on your local computer than in the Jupyterhub environment.\n",
    "\n",
    "## 3. Extract and Build your sandboxR tree\n",
    "### 3.1. Export your data from dbGap\n",
    "In order to get your data from dbGap, you will need to request an access and to get a decryption key. This has to be done here: https://dbgap.ncbi.nlm.nih.gov/aa/wga.cgi?login=&page=login\n",
    "### 3.2. Decrypt your files\n",
    "We found that the decryption system from dbGap can be tricky. We created dbgap.decrypt() in order to easily decrypt the files that you have downloaded. Note that the \"files\" argument can be a file or a folder containing multiple encrypted files. Also, this function works only for Mac OS at this moment."
   ]
  },
  {
   "cell_type": "code",
   "execution_count": null,
   "metadata": {
    "collapsed": true
   },
   "outputs": [],
   "source": [
    "key <- \"path/to/your/key.ngc\"\n",
    "files <- \"path/to/the/files/you/want/to/decrypt.ncbi_enc\"\n",
    "dbgap.decrypt(file, key)"
   ]
  },
  {
   "cell_type": "markdown",
   "metadata": {},
   "source": [
    "### 3.3 Create your first sandbox map\n",
    "Once the dbgap files decrypted, you will have one folder per consent groups containing one file per datatable. The goal of this function is to create a folder with a \"0_map.csv\" file who will map all your variables, and a subfolder \"study_tree\" containing one .csv file per variable in your study, gathered by datatables."
   ]
  },
  {
   "cell_type": "code",
   "execution_count": null,
   "metadata": {
    "collapsed": true
   },
   "outputs": [],
   "source": [
    "cg <- c(\"path/to/the/first/folder/containing/a/consent/group\", \"second/folder\", ...)\n",
    "destination <- \"path/were/your/tree/will/be/located\"\n",
    "sandbox(JHS, cg, destination)"
   ]
  },
  {
   "cell_type": "markdown",
   "metadata": {},
   "source": [
    "## 4. Transform your tree and build your sandboxes\n",
    "### 4.1 Modify your tree\n",
    "Once your first tree has been created,  you can easily modify the arrangement of your variables by creating new subdirectories, and by dragging and dropping your variable files. You can also change the name of your directories and variables. Be careful not to delete a variable file in this process.\n",
    "\n",
    "Then, use the function TreeToMap() in order to reflect your modifications in your \"0_map.csv\" file"
   ]
  },
  {
   "cell_type": "code",
   "execution_count": null,
   "metadata": {
    "collapsed": true
   },
   "outputs": [],
   "source": [
    "path <- \"Pathway/to/the/folder/where/the/map/and/the/tree/are/located\"\n",
    "TreeToMap(path)"
   ]
  },
  {
   "cell_type": "markdown",
   "metadata": {},
   "source": [
    "### 4.2 Modify your map\n",
    "Similarly, you can modify the name of your files directly in the \"0_map.csv\" files. Modify the 5th column \"data_label\" to change the name of your variables. Use then the MapToTree() function in order to reflect your modifications in your tree."
   ]
  },
  {
   "cell_type": "code",
   "execution_count": null,
   "metadata": {
    "collapsed": true
   },
   "outputs": [],
   "source": [
    "MapToTree(path)"
   ]
  },
  {
   "cell_type": "markdown",
   "metadata": {},
   "source": [
    "##### Be careful to apply your changes with MapToTree or TreeToMap BEFORE switching from 4.1 to 4.2 and from 4.2 to 4.1\n",
    "## 4.3 Fixing and repairing issues\n",
    "Each time you will use TreeToMap(), the old map will be saved with a time stamp in a hidden folder called \".oldmaps\". Use the function list.oldmaps() in order to list your previous maps. Use look.oldmaps() in order to view one of these maps as a data.frame. Use recover.map() to change your tree and your \"0_map.csv\" according to one of your previous maps."
   ]
  },
  {
   "cell_type": "code",
   "execution_count": null,
   "metadata": {
    "collapsed": true
   },
   "outputs": [],
   "source": [
    "list.oldmaps(path)\n",
    "look.oldmap(path, \"olmap YYYY-MM-DD HHMM10 AM\")\n",
    "recover.map(path, \"olmap YYYY-MM-DD HHMM AM\")"
   ]
  }
 ],
 "metadata": {
  "kernelspec": {
   "display_name": "R",
   "language": "R",
   "name": "ir"
  },
  "language_info": {
   "codemirror_mode": "r",
   "file_extension": ".r",
   "mimetype": "text/x-r-source",
   "name": "R",
   "pygments_lexer": "r",
   "version": "3.3.1"
  }
 },
 "nbformat": 4,
 "nbformat_minor": 1
}
