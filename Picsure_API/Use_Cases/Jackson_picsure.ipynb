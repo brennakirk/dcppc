{
 "cells": [
  {
   "cell_type": "markdown",
   "metadata": {},
   "source": [
    "# Case-study: use of PIC-SURE API to extract data from the Jackson Heart Study cohort\n",
    "\n",
    "## INTRO - Install the required libraries\n",
    "\n",
    "Here we set up the JupyterNB environment. We also install the newly created package picsuRe to facilitate the use of the PIC-SURE API"
   ]
  },
  {
   "cell_type": "code",
   "execution_count": null,
   "metadata": {
    "collapsed": false
   },
   "outputs": [],
   "source": [
    "httr::set_config(httr::config(ssl_verifypeer = 0L, ssl_verifyhost = 0L, ssl_verifystatus  = 0L))\n",
    "if (!file.exists(Sys.getenv(\"TAR\")))  Sys.setenv(TAR = \"/bin/tar\")\n",
    "\n",
    "install.packages(\"devtools\", repos = \"http://cran.r-project.org\")\n",
    "install.packages(\"reticulate\", repos = \"http://cran.r-project.org\")\n",
    "install.packages(\"ggthemes\", repos = \"https://cran.cnr.berkeley.edu/\")\n",
    "install.packages(\"rlang\", repos = \"http://cran.r-project.org\")\n",
    "install.packages(\"Rcpp\", repos = \"http://cran.r-project.org\")\n",
    "install.packages(\"ggplot2\", repos = \"http://cran.r-project.org\")\n",
    "\n",
    "library(devtools)\n",
    "library(reticulate)\n",
    "library(ggplot2)\n",
    "library(ggthemes)\n",
    "\n",
    "install_github(\"hms-dbmi/picsuRe\")\n",
    "install_github(\"kaz-yos/tableone\")\n",
    "library(picsuRe)\n",
    "library(tableone)"
   ]
  },
  {
   "cell_type": "markdown",
   "metadata": {},
   "source": [
    "## 1. Data extraction\n",
    "`environment`: The URL of the environment\n",
    "\n",
    "`key`: To authenticate with PIC-SURE put your key or token in an otherwise empty text file in your JupyterNotebook's top level folder. The key will be read from there so the key does not get seen by anyone except you.\n",
    "\n",
    "`variables`: A vector with the variables of interest. You can put a variable, or a path, as you want. You can also use the * key if you want to use a wild card. If an argument corresponds to a node, it will return all the variables below the node"
   ]
  },
  {
   "cell_type": "code",
   "execution_count": null,
   "metadata": {
    "collapsed": false
   },
   "outputs": [],
   "source": [
    "env <- \"https://topmed-dev.hms.harvard.edu\"\n",
    "key <- as.character(read.table(\"topmedkey.csv\", sep=\",\")[1,1])\n",
    "\n",
    "var <- c(Consent_groups = \"The Jackson Heart Study - phs000286/00. population/consent_groups\",\n",
    "               Age = \"Age (yrs) at baseline clinic visit\",\n",
    "               Gender = \"01. Demographics/Gender\",\n",
    "               LV_thickness = \"M-mode diastolic IV septum thickness in mm\",\n",
    "               Smoking = \"*Smoked at least 400 cigarettes\",\n",
    "               Diastolic_BP = \"*Diastolic (first BP)\")"
   ]
  },
  {
   "cell_type": "markdown",
   "metadata": {},
   "source": [
    "With the function `picsure`, we build our query, and get the results back from the API. The output is a dataset with the variables of interests. By default, it will return all the patients that have at least one value for a variable."
   ]
  },
  {
   "cell_type": "code",
   "execution_count": null,
   "metadata": {
    "collapsed": false
   },
   "outputs": [],
   "source": [
    "demo <- picsure(env, key, var)"
   ]
  },
  {
   "cell_type": "markdown",
   "metadata": {},
   "source": [
    "For simplicity, we exclude the observations where \"Gender\" is missing"
   ]
  },
  {
   "cell_type": "code",
   "execution_count": null,
   "metadata": {
    "collapsed": false
   },
   "outputs": [],
   "source": [
    "demo <- demo[!(demo$Gender == \"\"),]\n",
    "demo <- demo[!(demo$Smoking == \"\"),]"
   ]
  },
  {
   "cell_type": "markdown",
   "metadata": {},
   "source": [
    "## 2. Use the data to make statistics\n",
    "### 2.a. Summary statistics\n",
    "Let's take a look at the characteristics of our population"
   ]
  },
  {
   "cell_type": "code",
   "execution_count": null,
   "metadata": {
    "collapsed": false
   },
   "outputs": [],
   "source": [
    "catVars <- c(\"Consent_groups\", \"Gender\", \"Smoking\")\n",
    "vars <- c(\"Consent_groups\", \"Gender\", \"Smoking\", \"LV_thickness\", \"Age\", \"Diastolic_BP\")\n",
    "paste(\"We have\", nrow(demo), \"patients in our population.\")\n",
    "\"Table 1: Description of the population from the Jackson Study\"\n",
    "CreateTableOne(vars, data = demo[,-1], factorVars = catVars, strata = c(\"Gender\"), test = FALSE)"
   ]
  },
  {
   "cell_type": "markdown",
   "metadata": {},
   "source": [
    "### 2.b. Comparison of a categorical variable with a continuous one.\n",
    "#### 2.b.1. Comparison of Age among male and female\n",
    "We want to start by looking at the distribution of age in our population"
   ]
  },
  {
   "cell_type": "code",
   "execution_count": null,
   "metadata": {
    "collapsed": false
   },
   "outputs": [],
   "source": [
    "age <- demo$Age\n",
    "summary(age)\n",
    "hist(age,\n",
    "     main=\"Histogram for Age\", \n",
    "     xlab=\"Age of participants\", \n",
    "     border=\"black\", \n",
    "     col=\"sky blue\",\n",
    "     xlim=c(0,100),\n",
    "     breaks=20,\n",
    "     prob = TRUE)\n",
    "lines(density(age), col = \"blue\", lwd = 2)"
   ]
  },
  {
   "cell_type": "markdown",
   "metadata": {},
   "source": [
    "We can notice a bi-modal distribution of age among the participants, with one mode around 50 years old, and the other around 65 years old.\n",
    "\n",
    "##### Now let's break down the distribution of age by gender categories."
   ]
  },
  {
   "cell_type": "code",
   "execution_count": null,
   "metadata": {
    "collapsed": false
   },
   "outputs": [],
   "source": [
    "Age <- demo$Age\n",
    "Gender <- demo$Gender\n",
    "demo2 <- droplevels(demo)\n",
    "\n",
    "boxplot(Age~Gender,data=demo2, main=\"Age by Gender among the Jackson Heart Study Cohort\", xlab=\"Gender\", ylab=\"Age\")"
   ]
  },
  {
   "cell_type": "markdown",
   "metadata": {},
   "source": [
    "The distribution of age appears to be similar among men and women with a mean around 50 to 55 years old."
   ]
  },
  {
   "cell_type": "markdown",
   "metadata": {},
   "source": [
    "### 2.b.2. Comparison of the sitting blood pressure among men and women from the JHS cohort\n",
    "First, let's see the distribution of the diastolic blood pressure among the JHS cohort"
   ]
  },
  {
   "cell_type": "code",
   "execution_count": null,
   "metadata": {
    "collapsed": false
   },
   "outputs": [],
   "source": [
    "diastolic <- demo$Diastolic_BP\n",
    "summary(diastolic)\n",
    "hist(diastolic,\n",
    "     main=\"Distribution of Diastolic blood pressure among the cohort\",\n",
    "     sub=\"-The dark line corresponds to a normal distribution-\",\n",
    "     xlab=\"Diastolic blood pressure (mmHg)\", \n",
    "     ylab=\"n\",\n",
    "     border=\"black\", \n",
    "     col=\"wheat1\",\n",
    "     xlim=c(40,150),\n",
    "     breaks=10,\n",
    "     las = 1,\n",
    "     prob = TRUE\n",
    "    )\n",
    "m <- mean(diastolic, na.rm = TRUE)\n",
    "std <- sqrt(var(diastolic, na.rm = TRUE))\n",
    "x <- length(diastolic)\n",
    "curve(dnorm(x, mean=m, sd=std), col=\"wheat4\", lwd=3, add=TRUE, yaxt=\"n\")"
   ]
  },
  {
   "cell_type": "markdown",
   "metadata": {},
   "source": [
    "We can see that the distribution as a bell-shape curve slightly left skewed. However, our population contains enough patient so that we can apply the central limit theorem for our analysis.\n",
    "\n",
    "Let's run a t-test in order to look for a significant difference of the diastolic BP between men and women."
   ]
  },
  {
   "cell_type": "code",
   "execution_count": null,
   "metadata": {
    "collapsed": false
   },
   "outputs": [],
   "source": [
    "Gender <- demo$Gender\n",
    "diastolic <- demo$Diastolic_BP\n",
    "demo2 <- droplevels(demo)\n",
    "t.test(diastolic~Gender)\n",
    "boxplot(diastolic~Gender,data=demo2, main=\"Diastolic blood pressure by Gender\", xlab=\"Gender\", ylab=\"Diastolic blood pressure (mmHg)\",   las = 1)"
   ]
  },
  {
   "cell_type": "markdown",
   "metadata": {},
   "source": [
    "The p-value is lower than 0.05, therefore we can conclude that the dastolic blood pressure is statistically significantly lower among the female population of the Jackson cohort than among the male population. This is also visualy significant as looking at the box-plots."
   ]
  },
  {
   "cell_type": "markdown",
   "metadata": {},
   "source": [
    "### 2.c. Comparison of 2 categorical variables\n",
    "Let's analyze the tobacco epidemic among the Jackson Heart Study cohort subjects.\n",
    "#### Firstly, we want to know the proportion of smokers, broken down by gender"
   ]
  },
  {
   "cell_type": "code",
   "execution_count": null,
   "metadata": {
    "collapsed": false
   },
   "outputs": [],
   "source": [
    "demo <- demo[((demo$Gender == \"Male\" | demo$Gender == \"Female\")\n",
    "            & (demo$Smoking == \"Yes\" | demo$Smoking == \"No\")),]\n",
    "demo <- droplevels(demo)\n",
    "\n",
    "Smokers <- demo$Smoking\n",
    "Gender <- demo$Gender\n",
    "\n",
    "TwoByTwo <- table(Gender, Smokers)\n",
    "TwoByTwo\n",
    "chisq.test(Gender, Smokers)\n",
    "mosaicplot(TwoByTwo, color = TRUE, main = \"Mosaic plot of smokers by gender categories\")"
   ]
  },
  {
   "cell_type": "markdown",
   "metadata": {},
   "source": [
    "The previous Chi-Square test concluded that there was a statistically significant higher proportion of smokers among men than among women. That is also visually significant on the mosaic plot."
   ]
  },
  {
   "cell_type": "markdown",
   "metadata": {},
   "source": [
    "### 3. Focus on Myocardial hypertrophy\n",
    "#### 3.1 Distribution\n",
    "Histogram showing the distribution of the interventricular septum thickness measurement during the ventricular contraction."
   ]
  },
  {
   "cell_type": "code",
   "execution_count": null,
   "metadata": {
    "collapsed": false
   },
   "outputs": [],
   "source": [
    "demo <- demo[!(is.na(demo$LV_thickness)),]\n",
    "hist(demo$LV_thickness,\n",
    "     xlab=\"Septal thickness in mm\",\n",
    "     main = \"Distribution of septum thickness among the JHS cohort\",\n",
    "     xlim=c(5,20),\n",
    "     breaks=19)\n",
    "abline(v=15,col=\"red\")"
   ]
  },
  {
   "cell_type": "markdown",
   "metadata": {},
   "source": [
    "The distribution among our population doesn't seem to fit a bell-shaped curve. It's left-skewed, and with a right tail. The red line drawn at 15mm represent the threshold above which myocardial hypertrophy is defined."
   ]
  },
  {
   "cell_type": "markdown",
   "metadata": {},
   "source": [
    "#### 3.2 Comparison between male and female\n",
    "\n",
    "We can now run a t-test in order to compare the wall thickness of the interventricular septum between females and males."
   ]
  },
  {
   "cell_type": "code",
   "execution_count": null,
   "metadata": {
    "collapsed": false
   },
   "outputs": [],
   "source": [
    "demo2 <- demo[(demo$Gender == \"Female\" | demo$Gender == \"Male\"),]\n",
    "\n",
    "LV_thickness <- demo$LV_thickness\n",
    "Gender <- demo2$Gender\n",
    "\n",
    "summary(LV_thickness)\n",
    "\n",
    "p <- ggplot(demo, aes(x=Gender, y=LV_thickness, fill=Gender)) + geom_boxplot()\n",
    "p + labs(subtitle=\"Wall thickness of interventricular septum by gender\")"
   ]
  },
  {
   "cell_type": "code",
   "execution_count": null,
   "metadata": {
    "collapsed": false
   },
   "outputs": [],
   "source": [
    "t.test(LV_thickness~Gender)"
   ]
  },
  {
   "cell_type": "markdown",
   "metadata": {},
   "source": [
    "The p-value is lower than 0.05, therefore we can conclude that the interventricular septum thickness is significantly lower among the female population of the Jackson cohort than among the male population."
   ]
  },
  {
   "cell_type": "code",
   "execution_count": null,
   "metadata": {
    "collapsed": false
   },
   "outputs": [],
   "source": [
    "p <- ggplot(data=demo,aes(x=Age,y=LV_thickness))\n",
    "p + theme_tufte(base_size=14) + stat_smooth(method='loess') + facet_grid(~Gender) + labs(subtitle=\"Wall thickness of interventricular septum by gender and age\")"
   ]
  },
  {
   "cell_type": "code",
   "execution_count": null,
   "metadata": {
    "collapsed": true
   },
   "outputs": [],
   "source": []
  },
  {
   "cell_type": "code",
   "execution_count": null,
   "metadata": {
    "collapsed": true
   },
   "outputs": [],
   "source": []
  },
  {
   "cell_type": "code",
   "execution_count": null,
   "metadata": {
    "collapsed": true
   },
   "outputs": [],
   "source": []
  }
 ],
 "metadata": {
  "kernelspec": {
   "display_name": "R",
   "language": "R",
   "name": "ir"
  },
  "language_info": {
   "codemirror_mode": "r",
   "file_extension": ".r",
   "mimetype": "text/x-r-source",
   "name": "R",
   "pygments_lexer": "r",
   "version": "3.3.1"
  }
 },
 "nbformat": 4,
 "nbformat_minor": 1
}
