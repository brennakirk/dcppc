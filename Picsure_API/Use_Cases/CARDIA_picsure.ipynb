{
 "cells": [
  {
   "cell_type": "markdown",
   "metadata": {},
   "source": [
    "# Case-study: use of PIC-SURE API to extract data from the CARDIA cohort\n",
    "\n",
    "## INTRO - Install the required libraries\n",
    "\n",
    "We install the newly created package picsuRe to facilitate the use of the PIC-SURE API\n",
    "\n",
    "We also set up the JupyterNB environment"
   ]
  },
  {
   "cell_type": "code",
   "execution_count": null,
   "metadata": {
    "collapsed": false
   },
   "outputs": [],
   "source": [
    "httr::set_config(httr::config(ssl_verifypeer = 0L, ssl_verifyhost = 0L, ssl_verifystatus  = 0L))\n",
    "if (!file.exists(Sys.getenv(\"TAR\")))  Sys.setenv(TAR = \"/bin/tar\")\n",
    "\n",
    "install.packages(\"devtools\", repos = \"http://cran.r-project.org\")\n",
    "install.packages(\"reticulate\", repos = \"http://cran.r-project.org\")\n",
    "install.packages(\"ggthemes\", repos = \"https://cran.cnr.berkeley.edu/\")\n",
    "install.packages(\"rlang\", repos = \"http://cran.r-project.org\")\n",
    "install.packages(\"Rcpp\", repos = \"http://cran.r-project.org\")\n",
    "install.packages(\"ggplot2\", repos = \"http://cran.r-project.org\")\n",
    "\n",
    "library(devtools)\n",
    "library(reticulate)\n",
    "library(ggplot2)\n",
    "library(ggthemes)\n",
    "\n",
    "install_github(\"hms-dbmi/picsuRe\")\n",
    "install_github(\"kaz-yos/tableone\")\n",
    "library(picsuRe)\n",
    "library(tableone)"
   ]
  },
  {
   "cell_type": "markdown",
   "metadata": {},
   "source": [
    "## 1. Data extraction\n",
    "`environment`: The URL of the environment\n",
    "\n",
    "`key`: To authenticate with PIC-SURE put your key or token in an otherwise empty text file in your JupyterNotebook's top level folder. The key will be read from there so the key does not get seen by anyone except you.\n",
    "\n",
    "`variables`: A vector with the variables of interest. You can put a variable, or a path, as you want. You can also use the * key if you want to use a wild card. If an argument corresponds to a node, it will return all the variables below the node"
   ]
  },
  {
   "cell_type": "code",
   "execution_count": null,
   "metadata": {
    "collapsed": false
   },
   "outputs": [],
   "source": [
    "env <- \"https://topmed-dev.hms.harvard.edu\"\n",
    "key <- as.character(read.table(\"topmedkey.csv\", sep=\",\")[1,1])\n",
    "\n",
    "var <- c(Race = \"Coronary Artery Risk Development in Young Adults Study Cohort - phs000285/01. demographics/Race (verified at exam 2)\",\n",
    "        Gender = \"Coronary Artery Risk Development in Young Adults Study Cohort - phs000285/01. demographics/Sex (verified at exam 2)\",\n",
    "        Age = \"Coronary Artery Risk Development in Young Adults Study Cohort - phs000285/01. demographics/Calculated age at exam 1\",\n",
    "        Septal_thickness_systole = \"1990-1991 Year 5/02. Clinical data/Cardiology/Echocardiography/M-mode/M-mode: vent septal thickness - systole\",\n",
    "        Has_smoked_cigarettes = \"1985-1986 Year 0/01. Medical history/Tobacco, alcohol and drug use/Tobacco use form/Cigarette smoking status\",\n",
    "        Has_smoked_cigars = \"1985-1986 Year 0/01. Medical history/Tobacco, alcohol and drug use/Tobacco use form/03. Subject has smoked cigars\")"
   ]
  },
  {
   "cell_type": "markdown",
   "metadata": {},
   "source": [
    "With the function `picsure`, we build our query, and get the results back from the API. The output is a dataset with the variables of interests. By default, it will return all the patients that have at least one value for a variable."
   ]
  },
  {
   "cell_type": "code",
   "execution_count": null,
   "metadata": {
    "collapsed": false
   },
   "outputs": [],
   "source": [
    "demo <- picsure(env, key, var)"
   ]
  },
  {
   "cell_type": "markdown",
   "metadata": {},
   "source": [
    "For simplicity, we exclude the observations where the data are missing"
   ]
  },
  {
   "cell_type": "code",
   "execution_count": null,
   "metadata": {
    "collapsed": true
   },
   "outputs": [],
   "source": [
    "demo <- demo[!(demo$Has_smoked_cigarettes == \"\"),]\n",
    "demo <- demo[!(demo$Has_smoked_cigars == \"\"),]"
   ]
  },
  {
   "cell_type": "markdown",
   "metadata": {},
   "source": [
    "## 2. Use the data to make statistics\n",
    "### 2.a. Summary statistics\n",
    "Let's take a look at the characteristics of our population"
   ]
  },
  {
   "cell_type": "code",
   "execution_count": null,
   "metadata": {
    "collapsed": false
   },
   "outputs": [],
   "source": [
    "catVars <- c(\"Race\", \"Gender\", \"Has_smoked_cigarettes\", \"Has_smoked_cigars\")\n",
    "vars <- c(\"Race\", \"Gender\", \"Age\", \"Septal_thickness_systole\", \"Has_smoked_cigarettes\", \"Has_smoked_cigars\")\n",
    "\n",
    "paste(\"We have\", nrow(demo), \"patients in our population.\")\n",
    "\"Table 1: Description of the population from the CARDIA Study\"\n",
    "CreateTableOne(vars, data = demo[,-1], factorVars = catVars, strata = c(\"Gender\"), test = FALSE)"
   ]
  },
  {
   "cell_type": "markdown",
   "metadata": {},
   "source": [
    "### 2.b. Comparison of a categorical variable with a continuous one.\n",
    "#### 2.b.1. Comparison of Age among male and female\n",
    "We want to start by looking at the distribution of age in our population"
   ]
  },
  {
   "cell_type": "code",
   "execution_count": null,
   "metadata": {
    "collapsed": false
   },
   "outputs": [],
   "source": [
    "Age <- demo$Age\n",
    "summary(Age)\n",
    "hist(Age,\n",
    "     main=\"Distribution of the age at enrollment among the cohort\",\n",
    "     sub=\"-The dark line fits a normal distribution-\",\n",
    "     xlab=\"Age at enrollment (years)\", \n",
    "     ylab=\"Frequency\",\n",
    "     border=\"black\", \n",
    "     col=\"wheat1\",\n",
    "     xlim=c(0,40),\n",
    "     ylim=c(0,0.13),\n",
    "     breaks=20,\n",
    "     las = 2,\n",
    "     prob = TRUE\n",
    "    )\n",
    "m <- mean(Age, na.rm = TRUE)\n",
    "std <- sqrt(var(Age, na.rm = TRUE))\n",
    "x <- length(Age)\n",
    "curve(dnorm(x, mean=m, sd=std), col=\"wheat4\", lwd=3, add=TRUE, yaxt=\"n\")"
   ]
  },
  {
   "cell_type": "markdown",
   "metadata": {},
   "source": [
    "We can see that the distibution of Age is not normal in our population."
   ]
  },
  {
   "cell_type": "markdown",
   "metadata": {},
   "source": [
    "### 2.c. Comparison of 2 categorical variables.\n",
    "We want to know if gender and cigars smokers are correlated."
   ]
  },
  {
   "cell_type": "code",
   "execution_count": null,
   "metadata": {
    "collapsed": false,
    "scrolled": true
   },
   "outputs": [],
   "source": [
    "demo <- demo[((demo$Gender == \"Female\" | demo$Gender == \"Male\")\n",
    "            & (demo$Has_smoked_cigars == \"Yes\" | demo$Has_smoked_cigars == \"No\")),]\n",
    "demo <- droplevels(demo)\n",
    "\n",
    "Cigars_smokers <- demo$Has_smoked_cigars\n",
    "Gender <- demo$Gender\n",
    "\n",
    "TwoByTwo <- table(Gender, Cigars_smokers)\n",
    "TwoByTwo\n",
    "chisq.test(Gender, Cigars_smokers)"
   ]
  },
  {
   "cell_type": "code",
   "execution_count": null,
   "metadata": {
    "collapsed": false
   },
   "outputs": [],
   "source": [
    "mosaicplot(TwoByTwo, color = TRUE, main = \"Mosaic plot of cigars smokers by gender\")"
   ]
  },
  {
   "cell_type": "markdown",
   "metadata": {},
   "source": [
    "The p-value is lower than 0.05, therefore we can conclude that the cigars smokers are statistically significantly lower among the female population of the CARDIA cohort than among the male population. That is also visually significant on the mosaic plot."
   ]
  },
  {
   "cell_type": "markdown",
   "metadata": {},
   "source": [
    "### 3. Focus on Myocardial hypertrophy\n",
    "#### 3.1 Distribution\n",
    "Histogram showing the distribution of the interventricular septum thickness measurement during the ventricular contraction."
   ]
  },
  {
   "cell_type": "code",
   "execution_count": null,
   "metadata": {
    "collapsed": false
   },
   "outputs": [],
   "source": [
    "demo <- demo[!(is.na(demo$Septal_thickness_diastole)),]\n",
    "hist(demo$Septal_thickness_diastole,\n",
    "     xlab=\"Septal thickness diatole in cm\",\n",
    "     main = \"Distribution of septum thickness among the CARDIA cohort\",\n",
    "     xlim=c(0,3),\n",
    "     breaks=20)\n",
    "abline(v=1.5,col=\"red\")"
   ]
  },
  {
   "cell_type": "markdown",
   "metadata": {},
   "source": [
    "The distribution among our population doesn't seem to fit a bell-shaped curve. It's left-skewed, and with a right tail. The red line drawn at 15mm represent the threshold above which myocardial hypertrophy is defined."
   ]
  },
  {
   "cell_type": "markdown",
   "metadata": {},
   "source": [
    "#### 3.2 Comparison between male and female\n",
    "\n",
    "We can now run a t-test in order to compare the wall thickness of the interventricular septum between whites and african-americans."
   ]
  },
  {
   "cell_type": "code",
   "execution_count": null,
   "metadata": {
    "collapsed": false
   },
   "outputs": [],
   "source": [
    "demo2 <- demo[(demo$Race == \"White, not Hispanic\" | demo$Race == \"Black, not Hispanic\"),]\n",
    "\n",
    "Septal_thickness_systole <- demo$Septal_thickness_systole\n",
    "Race <- demo2$Race\n",
    "\n",
    "summary(Septal_thickness_systole)\n",
    "\n",
    "p <- ggplot(demo, aes(x=Race, y=Septal_thickness_systole, fill=Race)) + geom_boxplot()\n",
    "p + labs(subtitle=\"The wall thickness of the interventricular septum during the systole (cm) between race\")"
   ]
  },
  {
   "cell_type": "code",
   "execution_count": null,
   "metadata": {
    "collapsed": false
   },
   "outputs": [],
   "source": [
    "t.test(Septal_thickness_systole~Race)"
   ]
  },
  {
   "cell_type": "markdown",
   "metadata": {},
   "source": [
    "The p-value is lower than 0.05, therefore we can conclude that the interventricular septum thickness is significantly lower among whites subjects of the CARDIA cohort than among african-american."
   ]
  },
  {
   "cell_type": "code",
   "execution_count": null,
   "metadata": {
    "collapsed": false
   },
   "outputs": [],
   "source": [
    "p <- ggplot(data=demo,aes(x=Age,y=Septal_thickness_systole))\n",
    "p + theme_tufte(base_size=14) + stat_smooth(method='loess') + facet_grid(~Race) + labs(subtitle=\"Wall thickness of interventricular septum by race and age\")"
   ]
  },
  {
   "cell_type": "markdown",
   "metadata": {
    "collapsed": true
   },
   "source": [
    "We can see that the wall thickness of the interventricular septum during the systole according to the age is higher in the black population than in the white population, and increases with age."
   ]
  },
  {
   "cell_type": "code",
   "execution_count": null,
   "metadata": {
    "collapsed": true
   },
   "outputs": [],
   "source": []
  }
 ],
 "metadata": {
  "kernelspec": {
   "display_name": "R",
   "language": "R",
   "name": "ir"
  },
  "language_info": {
   "codemirror_mode": "r",
   "file_extension": ".r",
   "mimetype": "text/x-r-source",
   "name": "R",
   "pygments_lexer": "r",
   "version": "3.3.1"
  }
 },
 "nbformat": 4,
 "nbformat_minor": 1
}
